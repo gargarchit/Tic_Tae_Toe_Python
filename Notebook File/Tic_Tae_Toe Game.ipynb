{
 "cells": [
  {
   "cell_type": "markdown",
   "metadata": {},
   "source": [
    "# Tic_Tac_Toe"
   ]
  },
  {
   "cell_type": "code",
   "execution_count": null,
   "metadata": {},
   "outputs": [],
   "source": [
    "from IPython.display import clear_output\n",
    "import random"
   ]
  },
  {
   "cell_type": "code",
   "execution_count": null,
   "metadata": {},
   "outputs": [],
   "source": [
    "theBoard = [' '] * 10\n",
    "available = [str(num) for num in range(0,10)]\n",
    "players = [0,'X','O']"
   ]
  },
  {
   "cell_type": "code",
   "execution_count": null,
   "metadata": {},
   "outputs": [],
   "source": [
    "def display(a,b):\n",
    "    print('Available   TIC-TAC_TOE\\n'+ '  moves\\n\\n  '+\n",
    "          a[7]+'|'+a[8]+'|'+a[9]+'        '+b[7]+'|'+b[8]+'|'+b[9]+'\\n  '+\n",
    "          '-----        -----\\n  '+\n",
    "          a[4]+'|'+a[5]+'|'+a[6]+'        '+b[4]+'|'+b[5]+'|'+b[6]+'\\n  '+\n",
    "          '-----        -----\\n  '+\n",
    "          a[1]+'|'+a[2]+'|'+a[3]+'        '+b[1]+'|'+b[2]+'|'+b[3]+'\\n')"
   ]
  },
  {
   "cell_type": "code",
   "execution_count": null,
   "metadata": {},
   "outputs": [],
   "source": [
    "def place_marker(avail,board,marker,position):\n",
    "    board[position] = marker\n",
    "    avail[position] = ' '"
   ]
  },
  {
   "cell_type": "code",
   "execution_count": null,
   "metadata": {},
   "outputs": [],
   "source": [
    "def win_check(board,mark):\n",
    "\n",
    "    return ((board[7] ==  board[8] ==  board[9] == mark) or\n",
    "    (board[4] ==  board[5] ==  board[6] == mark) or\n",
    "    (board[1] ==  board[2] ==  board[3] == mark) or\n",
    "    (board[7] ==  board[4] ==  board[1] == mark) or\n",
    "    (board[8] ==  board[5] ==  board[2] == mark) or\n",
    "    (board[9] ==  board[6] ==  board[3] == mark) or\n",
    "    (board[7] ==  board[5] ==  board[3] == mark) or\n",
    "    (board[9] ==  board[5] ==  board[1] == mark))"
   ]
  },
  {
   "cell_type": "code",
   "execution_count": null,
   "metadata": {},
   "outputs": [],
   "source": [
    "def random_player():\n",
    "    return random.choice((-1, 1))"
   ]
  },
  {
   "cell_type": "code",
   "execution_count": null,
   "metadata": {},
   "outputs": [],
   "source": [
    "def space_check(board,position):\n",
    "    return board[position] == ' '"
   ]
  },
  {
   "cell_type": "code",
   "execution_count": null,
   "metadata": {},
   "outputs": [],
   "source": [
    "def full_board_check(board):\n",
    "    return ' ' not in board[1:]"
   ]
  },
  {
   "cell_type": "code",
   "execution_count": null,
   "metadata": {},
   "outputs": [],
   "source": [
    "def choice(board,player):\n",
    "    position = 0\n",
    "    \n",
    "    while position not in [1,2,3,4,5,6,7,8,9] or not space_check(board, position):\n",
    "        try:\n",
    "            position = int(input('Player %s, choose your next position: (1-9) '%(player)))\n",
    "        except:\n",
    "            print(\"Please try again\\n\")\n",
    "        \n",
    "    return position"
   ]
  },
  {
   "cell_type": "code",
   "execution_count": null,
   "metadata": {},
   "outputs": [],
   "source": [
    "def replay():\n",
    "    \n",
    "    return input('Do you want to play again? Enter Yes or No: ').lower().startswith('y')"
   ]
  },
  {
   "cell_type": "code",
   "execution_count": null,
   "metadata": {},
   "outputs": [],
   "source": [
    "while True:\n",
    "    clear_output()\n",
    "    print('Welcome to Tic_Tac_Toe!')\n",
    "    \n",
    "    toggle = random_player()\n",
    "    player = players[toggle]\n",
    "    print('Player %s Turn First!' %(player))\n",
    "    \n",
    "    game = True\n",
    "    input('Hit Enter to continue!')\n",
    "    while game:\n",
    "        display(available,theBoard)\n",
    "        position = choice(theBoard,player)\n",
    "        place_marker(available,theBoard,player,position)\n",
    "\n",
    "        if win_check(theBoard, player):\n",
    "            print('Congratulations! Player ' + player + ' wins!')\n",
    "            game = False\n",
    "        else:\n",
    "\n",
    "            if full_board_check(theBoard):\n",
    "                display(available,theBoard)\n",
    "                print('Draw!')\n",
    "                break\n",
    "            else:\n",
    "                toggle *= -1\n",
    "                player = players[toggle]\n",
    "                clear_output()\n",
    "\n",
    "    theBoard = [' '] * 10\n",
    "    available = [str(num) for num in range(0,10)]\n",
    "    \n",
    "    if not replay():\n",
    "        print(\"\\nThank You for Playing!\\n\\n              - Archit\")\n",
    "        break"
   ]
  },
  {
   "cell_type": "code",
   "execution_count": null,
   "metadata": {},
   "outputs": [],
   "source": []
  }
 ],
 "metadata": {
  "anaconda-cloud": {},
  "kernelspec": {
   "display_name": "Python 3",
   "language": "python",
   "name": "python3"
  },
  "language_info": {
   "codemirror_mode": {
    "name": "ipython",
    "version": 3
   },
   "file_extension": ".py",
   "mimetype": "text/x-python",
   "name": "python",
   "nbconvert_exporter": "python",
   "pygments_lexer": "ipython3",
   "version": "3.6.5"
  }
 },
 "nbformat": 4,
 "nbformat_minor": 1
}
